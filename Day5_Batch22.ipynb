{
 "cells": [
  {
   "cell_type": "code",
   "execution_count": null,
   "metadata": {},
   "outputs": [],
   "source": [
    "Introduction for loops :"
   ]
  },
  {
   "cell_type": "code",
   "execution_count": 1,
   "metadata": {},
   "outputs": [],
   "source": [
    "Bank_customers = ['arsh','kiran','usha','ravi','bhavya','deepak'] ----> #mainvar:"
   ]
  },
  {
   "cell_type": "code",
   "execution_count": null,
   "metadata": {},
   "outputs": [],
   "source": [
    "#requirement greeting the customers:"
   ]
  },
  {
   "cell_type": "code",
   "execution_count": null,
   "metadata": {},
   "outputs": [],
   "source": [
    "Axis Bank Wishes you a very happy new year arsh.."
   ]
  },
  {
   "cell_type": "code",
   "execution_count": null,
   "metadata": {},
   "outputs": [],
   "source": [
    "#regular way:"
   ]
  },
  {
   "cell_type": "code",
   "execution_count": 4,
   "metadata": {},
   "outputs": [
    {
     "name": "stdout",
     "output_type": "stream",
     "text": [
      "Axis Bank Wishes you a very happy new year, Arsh\n"
     ]
    }
   ],
   "source": [
    "print(f\"Axis Bank Wishes you a very happy new year, {Bank_customers[0].title()}\")"
   ]
  },
  {
   "cell_type": "code",
   "execution_count": 5,
   "metadata": {},
   "outputs": [
    {
     "name": "stdout",
     "output_type": "stream",
     "text": [
      "Axis Bank Wishes you a very happy new year, Usha\n"
     ]
    }
   ],
   "source": [
    "print(f\"Axis Bank Wishes you a very happy new year, {Bank_customers[2].title()}\")"
   ]
  },
  {
   "cell_type": "code",
   "execution_count": null,
   "metadata": {},
   "outputs": [],
   "source": [
    "# To automate the solution"
   ]
  },
  {
   "cell_type": "code",
   "execution_count": 7,
   "metadata": {},
   "outputs": [
    {
     "name": "stdout",
     "output_type": "stream",
     "text": [
      "Axis Bank Wishes you a very happy new year, arsh\n",
      "Axis Bank Wishes you a very happy new year, kiran\n",
      "Axis Bank Wishes you a very happy new year, usha\n",
      "Axis Bank Wishes you a very happy new year, ravi\n",
      "Axis Bank Wishes you a very happy new year, bhavya\n",
      "Axis Bank Wishes you a very happy new year, deepak\n"
     ]
    }
   ],
   "source": [
    "for customers in Bank_customers:\n",
    "    print(f\"Axis Bank Wishes you a very happy new year, {customers}\") ---> #tempvar:"
   ]
  },
  {
   "cell_type": "code",
   "execution_count": 9,
   "metadata": {},
   "outputs": [
    {
     "name": "stdout",
     "output_type": "stream",
     "text": [
      "Axis Bank Wishes you a very happy new year,arsh\n",
      "Axis Bank Wishes you a very happy new year,kiran\n",
      "Axis Bank Wishes you a very happy new year,usha\n",
      "Axis Bank Wishes you a very happy new year,ravi\n",
      "Axis Bank Wishes you a very happy new year,bhavya\n",
      "Axis Bank Wishes you a very happy new year,deepak\n"
     ]
    }
   ],
   "source": [
    "for batman in Bank_customers:\n",
    "    print(f\"Axis Bank Wishes you a very happy new year,{batman}\")"
   ]
  },
  {
   "cell_type": "code",
   "execution_count": 16,
   "metadata": {},
   "outputs": [
    {
     "ename": "IndentationError",
     "evalue": "expected an indented block (<ipython-input-16-9cc8863c5734>, line 2)",
     "output_type": "error",
     "traceback": [
      "\u001b[1;36m  File \u001b[1;32m\"<ipython-input-16-9cc8863c5734>\"\u001b[1;36m, line \u001b[1;32m2\u001b[0m\n\u001b[1;33m    print(tempvar)\u001b[0m\n\u001b[1;37m        ^\u001b[0m\n\u001b[1;31mIndentationError\u001b[0m\u001b[1;31m:\u001b[0m expected an indented block\n"
     ]
    }
   ],
   "source": [
    "\n",
    "for tempvar in mainvar:\n",
    "print(tempvar)"
   ]
  },
  {
   "cell_type": "code",
   "execution_count": null,
   "metadata": {},
   "outputs": [],
   "source": [
    "Indentation error (1 tab gap for print)"
   ]
  },
  {
   "cell_type": "code",
   "execution_count": 17,
   "metadata": {},
   "outputs": [
    {
     "name": "stdout",
     "output_type": "stream",
     "text": [
      "Axis Bank Wishes you a very happy new year, arsh\n",
      "Axis Bank Wishes you a very happy new year, kiran\n",
      "Axis Bank Wishes you a very happy new year, usha\n",
      "Axis Bank Wishes you a very happy new year, ravi\n",
      "Axis Bank Wishes you a very happy new year, bhavya\n",
      "Axis Bank Wishes you a very happy new year, deepak\n"
     ]
    }
   ],
   "source": [
    "for x in Bank_customers:\n",
    "    print(f\"Axis Bank Wishes you a very happy new year, {x}\")"
   ]
  },
  {
   "cell_type": "code",
   "execution_count": 18,
   "metadata": {},
   "outputs": [],
   "source": [
    "my_students = ['rahul','ashish','shahdeena','samia','suresh']"
   ]
  },
  {
   "cell_type": "code",
   "execution_count": null,
   "metadata": {},
   "outputs": [],
   "source": [
    "# Requirement: To appriciate the students."
   ]
  },
  {
   "cell_type": "code",
   "execution_count": 22,
   "metadata": {},
   "outputs": [
    {
     "name": "stdout",
     "output_type": "stream",
     "text": [
      "rahul\n",
      "ashish\n",
      "shahdeena\n",
      "samia\n",
      "suresh\n"
     ]
    }
   ],
   "source": [
    "for students in my_students:\n",
    "    print(students)"
   ]
  },
  {
   "cell_type": "code",
   "execution_count": 24,
   "metadata": {},
   "outputs": [
    {
     "name": "stdout",
     "output_type": "stream",
     "text": [
      "Keep up the good work, Rahul\n",
      "Keep up the good work, Ashish\n",
      "Keep up the good work, Shahdeena\n",
      "Keep up the good work, Samia\n",
      "Keep up the good work, Suresh\n"
     ]
    }
   ],
   "source": [
    "for students in my_students:\n",
    "    print(f\"Keep up the good work, {students.title()}\")"
   ]
  },
  {
   "cell_type": "code",
   "execution_count": 26,
   "metadata": {},
   "outputs": [
    {
     "name": "stdout",
     "output_type": "stream",
     "text": [
      "Keep up the good work, Rahul\n",
      "Keep up the good work, Ashish\n",
      "Keep up the good work, Shahdeena\n",
      "Keep up the good work, Samia\n",
      "Keep up the good work, Suresh\n"
     ]
    }
   ],
   "source": [
    "for y in my_students:\n",
    "    print(f\"Keep up the good work, {y.title()}\")"
   ]
  },
  {
   "cell_type": "code",
   "execution_count": null,
   "metadata": {},
   "outputs": [],
   "source": [
    "#Req: I am waiting to receive practise files of today:"
   ]
  },
  {
   "cell_type": "code",
   "execution_count": 27,
   "metadata": {},
   "outputs": [
    {
     "name": "stdout",
     "output_type": "stream",
     "text": [
      "Keep up the good work, Rahul\n",
      "I am waiting to receive practise files of today, Rahul\n",
      "Keep up the good work, Ashish\n",
      "I am waiting to receive practise files of today, Ashish\n",
      "Keep up the good work, Shahdeena\n",
      "I am waiting to receive practise files of today, Shahdeena\n",
      "Keep up the good work, Samia\n",
      "I am waiting to receive practise files of today, Samia\n",
      "Keep up the good work, Suresh\n",
      "I am waiting to receive practise files of today, Suresh\n"
     ]
    }
   ],
   "source": [
    "for y in my_students:\n",
    "    print(f\"Keep up the good work, {y.title()}\")\n",
    "    print(f\"I am waiting to receive practise files of today, {y.title()}\")"
   ]
  },
  {
   "cell_type": "code",
   "execution_count": null,
   "metadata": {},
   "outputs": [],
   "source": [
    "# The aboove view looks like paragraph view. "
   ]
  },
  {
   "cell_type": "code",
   "execution_count": null,
   "metadata": {},
   "outputs": [],
   "source": [
    "# Enhancement of code"
   ]
  },
  {
   "cell_type": "code",
   "execution_count": 32,
   "metadata": {},
   "outputs": [
    {
     "name": "stdout",
     "output_type": "stream",
     "text": [
      "Keep up the good work, Rahul\n",
      "I am waiting to receive practise files of today, Rahul.\n",
      "\n",
      "Keep up the good work, Ashish\n",
      "I am waiting to receive practise files of today, Ashish.\n",
      "\n",
      "Keep up the good work, Shahdeena\n",
      "I am waiting to receive practise files of today, Shahdeena.\n",
      "\n",
      "Keep up the good work, Samia\n",
      "I am waiting to receive practise files of today, Samia.\n",
      "\n",
      "Keep up the good work, Suresh\n",
      "I am waiting to receive practise files of today, Suresh.\n",
      "\n"
     ]
    }
   ],
   "source": [
    "for y in my_students:\n",
    "    print(f\"Keep up the good work, {y.title()}\")\n",
    "    print(f\"I am waiting to receive practise files of today, {y.title()}.\\n\")"
   ]
  },
  {
   "cell_type": "code",
   "execution_count": null,
   "metadata": {},
   "outputs": [],
   "source": [
    "#Addressing the Thankyou note at the end in the same code."
   ]
  },
  {
   "cell_type": "code",
   "execution_count": 33,
   "metadata": {},
   "outputs": [
    {
     "name": "stdout",
     "output_type": "stream",
     "text": [
      "Keep up the good work, Rahul\n",
      "I am waiting to receive practise files of today, Rahul.\n",
      "\n",
      "Keep up the good work, Ashish\n",
      "I am waiting to receive practise files of today, Ashish.\n",
      "\n",
      "Keep up the good work, Shahdeena\n",
      "I am waiting to receive practise files of today, Shahdeena.\n",
      "\n",
      "Keep up the good work, Samia\n",
      "I am waiting to receive practise files of today, Samia.\n",
      "\n",
      "Keep up the good work, Suresh\n",
      "I am waiting to receive practise files of today, Suresh.\n",
      "\n",
      "Thank you all for joining the python training sessions!\n"
     ]
    }
   ],
   "source": [
    "for y in my_students:\n",
    "    print(f\"Keep up the good work, {y.title()}\")\n",
    "    print(f\"I am waiting to receive practise files of today, {y.title()}.\\n\")\n",
    "print(f\"Thank you all for joining the python training sessions!\")"
   ]
  },
  {
   "cell_type": "code",
   "execution_count": null,
   "metadata": {},
   "outputs": [],
   "source": []
  },
  {
   "cell_type": "code",
   "execution_count": null,
   "metadata": {},
   "outputs": [],
   "source": []
  },
  {
   "cell_type": "code",
   "execution_count": null,
   "metadata": {},
   "outputs": [],
   "source": []
  },
  {
   "cell_type": "code",
   "execution_count": null,
   "metadata": {},
   "outputs": [],
   "source": []
  },
  {
   "cell_type": "code",
   "execution_count": null,
   "metadata": {},
   "outputs": [],
   "source": []
  },
  {
   "cell_type": "code",
   "execution_count": null,
   "metadata": {},
   "outputs": [],
   "source": []
  }
 ],
 "metadata": {
  "kernelspec": {
   "display_name": "Python 3",
   "language": "python",
   "name": "python3"
  },
  "language_info": {
   "codemirror_mode": {
    "name": "ipython",
    "version": 3
   },
   "file_extension": ".py",
   "mimetype": "text/x-python",
   "name": "python",
   "nbconvert_exporter": "python",
   "pygments_lexer": "ipython3",
   "version": "3.7.4"
  }
 },
 "nbformat": 4,
 "nbformat_minor": 2
}
